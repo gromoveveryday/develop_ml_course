{
 "cells": [
  {
   "cell_type": "code",
   "execution_count": 1,
   "id": "480b58ec",
   "metadata": {},
   "outputs": [
    {
     "name": "stdout",
     "output_type": "stream",
     "text": [
      "Точность модели: 1.00\n"
     ]
    }
   ],
   "source": [
    "from sklearn.datasets import load_iris\n",
    "from sklearn.model_selection import train_test_split\n",
    "from sklearn.ensemble import RandomForestClassifier\n",
    "from sklearn.metrics import accuracy_score\n",
    "\n",
    "iris = load_iris()\n",
    "X = iris.data  # Характеристики (длина/ширина чашелистика, лепестка)\n",
    "y = iris.target # Целевая переменная (вид ириса: 0, 1, 2)\n",
    "\n",
    "X_train, X_test, y_train, y_test = train_test_split(X, y, test_size=0.2, random_state=42)\n",
    "\n",
    "model = RandomForestClassifier(random_state=42)\n",
    "model.fit(X_train, y_train)\n",
    "\n",
    "predictions = model.predict(X_test)\n",
    "\n",
    "accuracy = accuracy_score(y_test, predictions)\n",
    "print(f\"Точность модели: {accuracy:.2f}\")"
   ]
  },
  {
   "cell_type": "code",
   "execution_count": 2,
   "id": "2c976ef8",
   "metadata": {},
   "outputs": [
    {
     "data": {
      "text/plain": [
       "['iris_model_random_forest.pkl']"
      ]
     },
     "execution_count": 2,
     "metadata": {},
     "output_type": "execute_result"
    }
   ],
   "source": [
    "import joblib\n",
    "\n",
    "model_data = {\n",
    "    'model': model,\n",
    "    'target_names': iris.target_names.tolist(),  # Сохраняем названия классов\n",
    "    'feature_names': ['Длина чашелистика', 'Ширина чашелистика', 'Длина лепестка', 'Ширина лепестка']  # Русские названия признаков\n",
    "}\n",
    "\n",
    "joblib.dump(model_data, 'iris_model_random_forest.pkl')"
   ]
  }
 ],
 "metadata": {
  "kernelspec": {
   "display_name": "venv",
   "language": "python",
   "name": "python3"
  },
  "language_info": {
   "codemirror_mode": {
    "name": "ipython",
    "version": 3
   },
   "file_extension": ".py",
   "mimetype": "text/x-python",
   "name": "python",
   "nbconvert_exporter": "python",
   "pygments_lexer": "ipython3",
   "version": "3.12.8"
  }
 },
 "nbformat": 4,
 "nbformat_minor": 5
}
